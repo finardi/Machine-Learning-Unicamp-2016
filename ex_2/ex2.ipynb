{
 "cells": [
  {
   "cell_type": "markdown",
   "metadata": {},
   "source": [
    "Leia os dados do arquivo data1.csv A classe de cada dado é o valor da última coluna (0 ou 1).\n",
    "\n",
    "Treine um SVM com kernel RBF nos dados do arquivos.\n",
    "\n",
    "A validação externa deve ser 5-fold estratificado.\n",
    "\n",
    "Para cada conjunto de treino da validação externa faça um 3-fold para escolher os melhores hiperparametros para C (cost) e gamma.\n",
    "\n",
    "Faça um grid search de para o C nos valores 2^-5, 2^-2, 2^0, 2^2, e 2^5 e gamma nos valores 2^-15, 2^-10, 2^-5, 2^0, e 2^5\n",
    "\n",
    "1) Qual a accuracia media (na validação de fora).\n",
    "\n",
    "2) Quais os valores de C e gamma a serem usados no classificador final (fazer o 3-fold no conjunto todo). \n"
   ]
  },
  {
   "cell_type": "markdown",
   "metadata": {},
   "source": [
    "Leia os dados do arquivo data1.csv A classe de cada dado é o valor da última coluna (0 ou 1)."
   ]
  },
  {
   "cell_type": "code",
   "execution_count": 1,
   "metadata": {
    "collapsed": false
   },
   "outputs": [
    {
     "name": "stderr",
     "output_type": "stream",
     "text": [
      "/home/me/anaconda3/envs/PYT3/lib/python3.5/site-packages/sklearn/cross_validation.py:44: DeprecationWarning: This module was deprecated in version 0.18 in favor of the model_selection module into which all the refactored classes and functions are moved. Also note that the interface of the new CV iterators are different from that of this module. This module will be removed in 0.20.\n",
      "  \"This module will be removed in 0.20.\", DeprecationWarning)\n"
     ]
    }
   ],
   "source": [
    "import numpy as np\n",
    "import pandas as pd\n",
    "import csv\n",
    "from sklearn import cross_validation\n",
    "from sklearn.svm import SVC\n",
    "import matplotlib.pyplot as plt\n",
    "%matplotlib inline\n",
    "\n",
    "# for better plots\n",
    "from IPython.display import set_matplotlib_formats\n",
    "set_matplotlib_formats('png', 'pdf')\n",
    "\n",
    "# read dada1.csv in python with Pandas\n",
    "data2 = pd.read_csv('data2.csv')\n",
    "\n",
    "# delete the last column of data1\n",
    "data2.set_index('clase').to_csv('data.csv', index=None)\n",
    "\n",
    "# saving new file in csv format\n",
    "X = pd.read_csv('data.csv')\n",
    "\n",
    "# convert the datas in numpy-array \n",
    "data2 = data2.as_matrix(columns=None)\n",
    "X = X.as_matrix(columns=None)\n",
    "\n",
    "# y is the expected\n",
    "y = data2[: , 166]"
   ]
  },
  {
   "cell_type": "code",
   "execution_count": 2,
   "metadata": {
    "collapsed": false
   },
   "outputs": [
    {
     "name": "stdout",
     "output_type": "stream",
     "text": [
      "[[  4.57149993e-01   2.05436960e-01   2.78199081e-01 ...,   7.28187955e-01\n",
      "    8.72605802e-01   1.00000000e+00]\n",
      " [  1.17586000e+00   3.75286949e-01   6.82984071e-01 ...,   4.16468549e-03\n",
      "    1.52903975e-01   1.00000000e+00]\n",
      " [  2.36007991e-01   1.71466962e-01   8.42006067e-01 ...,   9.03578938e-02\n",
      "   -1.28649968e+00   1.00000000e+00]\n",
      " ..., \n",
      " [  6.78291995e-01   1.61758321e-03   7.98636068e-01 ...,   6.24755945e-01\n",
      "    1.14940974e+00   0.00000000e+00]\n",
      " [  7.33576996e-01  -8.36306972e-01  -9.65069888e-01 ...,   3.66175920e-01\n",
      "    5.27254991e-03   1.00000000e+00]\n",
      " [ -1.14613002e+00  -8.70276970e-01  -1.13854988e+00 ...,  -2.23686033e+00\n",
      "    5.40435882e-01   0.00000000e+00]]\n"
     ]
    }
   ],
   "source": [
    "print(data2)\n",
    "# libs sklearn\n",
    "from sklearn import cross_validation\n",
    "from sklearn.svm import SVC\n"
   ]
  },
  {
   "cell_type": "markdown",
   "metadata": {},
   "source": [
    "Treine um SVM com kernel RBF nos dados do arquivos. A validação externa deve ser 5-fold estratificado.\n",
    "\n"
   ]
  },
  {
   "cell_type": "code",
   "execution_count": 3,
   "metadata": {
    "collapsed": false
   },
   "outputs": [
    {
     "name": "stdout",
     "output_type": "stream",
     "text": [
      "[0.865, 0.885, 0.947, 0.884, 0.926]\n",
      "\n",
      "Mean 0.901\n"
     ]
    }
   ],
   "source": [
    "# create the SVM / SVC classifier\n",
    "svc = SVC(kernel='rbf')\n",
    "\n",
    "# create the stratified cross validation\n",
    "skf = cross_validation.StratifiedKFold(y, n_folds=5)\n",
    "\n",
    "# fit and scores the folds\n",
    "scores = [ svc.fit(X[train], y[train]).score(X[test], y[test]) \n",
    "           for train, test in skf ]\n",
    "score = [float(round(n, 3)) for n in scores]\n",
    "print(score)\n",
    "\n",
    "# mean of scores\n",
    "print('\\nMean %.3f' % np.mean(scores))"
   ]
  },
  {
   "cell_type": "markdown",
   "metadata": {},
   "source": [
    "Para cada conjunto de treino da validação externa faça um 3-fold para escolher os melhores hiperparametros para C (cost) e gamma. \n",
    "Faça um grid search de para o C nos valores 2^-5, 2^-2, 2^0, 2^2, e 2^5 e gamma nos valores 2^-15, 2^-10, 2^-5, 2^0, e 2^5"
   ]
  },
  {
   "cell_type": "code",
   "execution_count": 4,
   "metadata": {
    "collapsed": false
   },
   "outputs": [],
   "source": [
    "# for individual select of the train/test set in StratifiedKfold (5-fold)\n",
    "mylist_skf = list(skf)\n",
    "index = [None]*5\n",
    "test  = [None]*5\n",
    "\n",
    "for i in range(0,5):\n",
    "    index[i], test[i] = mylist_skf[i] # we dont use the test sets\n",
    "\n",
    "#individual train sets     \n",
    "X_15, y_15 = X[index[0]], y[index[0]] # set 1/5\n",
    "X_25, y_25 = X[index[1]], y[index[1]] # set 2/5\n",
    "X_35, y_35 = X[index[2]], y[index[2]] # set 3/5\n",
    "X_45, y_45 = X[index[3]], y[index[3]] # set 4/5\n",
    "X_55, y_55 = X[index[4]], y[index[4]] # set 5/5\n"
   ]
  },
  {
   "cell_type": "code",
   "execution_count": 5,
   "metadata": {
    "collapsed": false
   },
   "outputs": [],
   "source": [
    "# range of hyperparameter C\n",
    "c_range     = [np.power(2.0,i) for i in [-5, -2, 0, 2, 5]]\n",
    "\n",
    "# range of hyperparameter Gamma\n",
    "gamma_range = [np.power(2.0,i) for i in range(-15, 6, 5)]"
   ]
  },
  {
   "cell_type": "code",
   "execution_count": 6,
   "metadata": {
    "collapsed": false,
    "scrolled": true
   },
   "outputs": [
    {
     "name": "stdout",
     "output_type": "stream",
     "text": [
      "\n",
      " Para C = 0.031250\n",
      "Com gamma = 0.000031\n",
      "Acurácia em 3-fold:  [0.535, 0.575, 0.587] . Média da acurácia: 0.566\n",
      "Com gamma = 0.000977\n",
      "Acurácia em 3-fold:  [0.535, 0.575, 0.587] . Média da acurácia: 0.566\n",
      "Com gamma = 0.031250\n",
      "Acurácia em 3-fold:  [0.535, 0.575, 0.587] . Média da acurácia: 0.566\n",
      "Com gamma = 1.000000\n",
      "Acurácia em 3-fold:  [0.535, 0.575, 0.587] . Média da acurácia: 0.566\n",
      "Com gamma = 32.000000\n",
      "Acurácia em 3-fold:  [0.535, 0.575, 0.587] . Média da acurácia: 0.566\n",
      "\n",
      " Para C = 0.250000\n",
      "Com gamma = 0.000031\n",
      "Acurácia em 3-fold:  [0.535, 0.575, 0.587] . Média da acurácia: 0.566\n",
      "Com gamma = 0.000977\n",
      "Acurácia em 3-fold:  [0.559, 0.591, 0.722] . Média da acurácia: 0.624\n",
      "Com gamma = 0.031250\n",
      "Acurácia em 3-fold:  [0.567, 0.614, 0.659] . Média da acurácia: 0.613\n",
      "Com gamma = 1.000000\n",
      "Acurácia em 3-fold:  [0.535, 0.575, 0.587] . Média da acurácia: 0.566\n",
      "Com gamma = 32.000000\n",
      "Acurácia em 3-fold:  [0.535, 0.575, 0.587] . Média da acurácia: 0.566\n",
      "\n",
      " Para C = 1.000000\n",
      "Com gamma = 0.000031\n",
      "Acurácia em 3-fold:  [0.535, 0.575, 0.587] . Média da acurácia: 0.566\n",
      "Com gamma = 0.000977\n",
      "Acurácia em 3-fold:  [0.764, 0.803, 0.849] . Média da acurácia: 0.805\n",
      "Com gamma = 0.031250\n",
      "Acurácia em 3-fold:  [0.882, 0.882, 0.897] . Média da acurácia: 0.887\n",
      "Com gamma = 1.000000\n",
      "Acurácia em 3-fold:  [0.535, 0.575, 0.587] . Média da acurácia: 0.566\n",
      "Com gamma = 32.000000\n",
      "Acurácia em 3-fold:  [0.535, 0.575, 0.587] . Média da acurácia: 0.566\n",
      "\n",
      " Para C = 4.000000\n",
      "Com gamma = 0.000031\n",
      "Acurácia em 3-fold:  [0.535, 0.575, 0.587] . Média da acurácia: 0.566\n",
      "Com gamma = 0.000977\n",
      "Acurácia em 3-fold:  [0.85, 0.827, 0.857] . Média da acurácia: 0.845\n",
      "Com gamma = 0.031250\n",
      "Acurácia em 3-fold:  [0.89, 0.906, 0.897] . Média da acurácia: 0.898\n",
      "Com gamma = 1.000000\n",
      "Acurácia em 3-fold:  [0.535, 0.575, 0.587] . Média da acurácia: 0.566\n",
      "Com gamma = 32.000000\n",
      "Acurácia em 3-fold:  [0.535, 0.575, 0.587] . Média da acurácia: 0.566\n",
      "\n",
      " Para C = 32.000000\n",
      "Com gamma = 0.000031\n",
      "Acurácia em 3-fold:  [0.787, 0.78, 0.81] . Média da acurácia: 0.792\n",
      "Com gamma = 0.000977\n",
      "Acurácia em 3-fold:  [0.913, 0.898, 0.889] . Média da acurácia: 0.900\n",
      "Com gamma = 0.031250\n",
      "Acurácia em 3-fold:  [0.89, 0.906, 0.897] . Média da acurácia: 0.898\n",
      "Com gamma = 1.000000\n",
      "Acurácia em 3-fold:  [0.535, 0.575, 0.587] . Média da acurácia: 0.566\n",
      "Com gamma = 32.000000\n",
      "Acurácia em 3-fold:  [0.535, 0.575, 0.587] . Média da acurácia: 0.566\n"
     ]
    }
   ],
   "source": [
    "# set 1 of 5\n",
    "\n",
    "for c in c_range:\n",
    "    print('\\n','Para C = %f'  % c)\n",
    "    for gamma in gamma_range:\n",
    "        print('Com gamma = %f' % gamma)\n",
    "        svc = SVC(C = c, gamma = gamma, kernel='rbf')\n",
    "        kf = cross_validation.KFold(len(X_15), n_folds=3) # 3-fold\n",
    "        scores = [ svc.fit(X_15[train], y_15[train]).score(X_15[test], y_15[test]) \n",
    "                   for train, test in kf ] # score(X,y) return the mean accuracy on the given test data and labels\n",
    "        score = [float(round(n, 3)) for n in scores]\n",
    "        print('Acurácia em 3-fold: ', score, '. Média da acurácia: %.3f' % np.mean(score))"
   ]
  },
  {
   "cell_type": "code",
   "execution_count": 7,
   "metadata": {
    "collapsed": false
   },
   "outputs": [
    {
     "name": "stdout",
     "output_type": "stream",
     "text": [
      "\n",
      " Para C = 0.031250\n",
      "Com gamma = 0.000031\n",
      "Acurácia em 3-fold:  [0.535, 0.575, 0.587] . Média da acurácia: 0.566\n",
      "Com gamma = 0.000977\n",
      "Acurácia em 3-fold:  [0.535, 0.575, 0.587] . Média da acurácia: 0.566\n",
      "Com gamma = 0.031250\n",
      "Acurácia em 3-fold:  [0.535, 0.575, 0.587] . Média da acurácia: 0.566\n",
      "Com gamma = 1.000000\n",
      "Acurácia em 3-fold:  [0.535, 0.575, 0.587] . Média da acurácia: 0.566\n",
      "Com gamma = 32.000000\n",
      "Acurácia em 3-fold:  [0.535, 0.575, 0.587] . Média da acurácia: 0.566\n",
      "\n",
      " Para C = 0.250000\n",
      "Com gamma = 0.000031\n",
      "Acurácia em 3-fold:  [0.535, 0.575, 0.587] . Média da acurácia: 0.566\n",
      "Com gamma = 0.000977\n",
      "Acurácia em 3-fold:  [0.535, 0.575, 0.595] . Média da acurácia: 0.568\n",
      "Com gamma = 0.031250\n",
      "Acurácia em 3-fold:  [0.567, 0.614, 0.627] . Média da acurácia: 0.603\n",
      "Com gamma = 1.000000\n",
      "Acurácia em 3-fold:  [0.535, 0.575, 0.587] . Média da acurácia: 0.566\n",
      "Com gamma = 32.000000\n",
      "Acurácia em 3-fold:  [0.535, 0.575, 0.587] . Média da acurácia: 0.566\n",
      "\n",
      " Para C = 1.000000\n",
      "Com gamma = 0.000031\n",
      "Acurácia em 3-fold:  [0.535, 0.575, 0.587] . Média da acurácia: 0.566\n",
      "Com gamma = 0.000977\n",
      "Acurácia em 3-fold:  [0.724, 0.858, 0.841] . Média da acurácia: 0.808\n",
      "Com gamma = 0.031250\n",
      "Acurácia em 3-fold:  [0.858, 0.898, 0.913] . Média da acurácia: 0.890\n",
      "Com gamma = 1.000000\n",
      "Acurácia em 3-fold:  [0.543, 0.583, 0.587] . Média da acurácia: 0.571\n",
      "Com gamma = 32.000000\n",
      "Acurácia em 3-fold:  [0.535, 0.575, 0.587] . Média da acurácia: 0.566\n",
      "\n",
      " Para C = 4.000000\n",
      "Com gamma = 0.000031\n",
      "Acurácia em 3-fold:  [0.535, 0.575, 0.587] . Média da acurácia: 0.566\n",
      "Com gamma = 0.000977\n",
      "Acurácia em 3-fold:  [0.795, 0.85, 0.841] . Média da acurácia: 0.829\n",
      "Com gamma = 0.031250\n",
      "Acurácia em 3-fold:  [0.874, 0.906, 0.913] . Média da acurácia: 0.898\n",
      "Com gamma = 1.000000\n",
      "Acurácia em 3-fold:  [0.543, 0.583, 0.587] . Média da acurácia: 0.571\n",
      "Com gamma = 32.000000\n",
      "Acurácia em 3-fold:  [0.535, 0.575, 0.587] . Média da acurácia: 0.566\n",
      "\n",
      " Para C = 32.000000\n",
      "Com gamma = 0.000031\n",
      "Acurácia em 3-fold:  [0.74, 0.835, 0.833] . Média da acurácia: 0.803\n",
      "Com gamma = 0.000977\n",
      "Acurácia em 3-fold:  [0.898, 0.921, 0.865] . Média da acurácia: 0.895\n",
      "Com gamma = 0.031250\n",
      "Acurácia em 3-fold:  [0.874, 0.906, 0.913] . Média da acurácia: 0.898\n",
      "Com gamma = 1.000000\n",
      "Acurácia em 3-fold:  [0.543, 0.583, 0.587] . Média da acurácia: 0.571\n",
      "Com gamma = 32.000000\n",
      "Acurácia em 3-fold:  [0.535, 0.575, 0.587] . Média da acurácia: 0.566\n"
     ]
    }
   ],
   "source": [
    "# set 2 of 5\n",
    "\n",
    "for c in c_range:\n",
    "    print('\\n','Para C = %f'  % c)\n",
    "    for gamma in gamma_range:\n",
    "        print('Com gamma = %f' % gamma)\n",
    "        svc = SVC(C = c, gamma = gamma, kernel='rbf')\n",
    "        kf = cross_validation.KFold(len(X_25), n_folds=3) # 3-fold\n",
    "        scores = [ svc.fit(X_25[train], y_25[train]).score(X_25[test], y_25[test]) \n",
    "                   for train, test in kf ] \n",
    "        score = [float(round(n, 3)) for n in scores]\n",
    "        print('Acurácia em 3-fold: ', score, '. Média da acurácia: %.3f' % np.mean(score))"
   ]
  },
  {
   "cell_type": "code",
   "execution_count": 8,
   "metadata": {
    "collapsed": false
   },
   "outputs": [
    {
     "name": "stdout",
     "output_type": "stream",
     "text": [
      "\n",
      " Para C = 0.031250\n",
      "Com gamma = 0.000031\n",
      "Acurácia em 3-fold:  [0.512, 0.591, 0.591] . Média da acurácia: 0.565\n",
      "Com gamma = 0.000977\n",
      "Acurácia em 3-fold:  [0.512, 0.591, 0.591] . Média da acurácia: 0.565\n",
      "Com gamma = 0.031250\n",
      "Acurácia em 3-fold:  [0.512, 0.591, 0.591] . Média da acurácia: 0.565\n",
      "Com gamma = 1.000000\n",
      "Acurácia em 3-fold:  [0.512, 0.591, 0.591] . Média da acurácia: 0.565\n",
      "Com gamma = 32.000000\n",
      "Acurácia em 3-fold:  [0.512, 0.591, 0.591] . Média da acurácia: 0.565\n",
      "\n",
      " Para C = 0.250000\n",
      "Com gamma = 0.000031\n",
      "Acurácia em 3-fold:  [0.512, 0.591, 0.591] . Média da acurácia: 0.565\n",
      "Com gamma = 0.000977\n",
      "Acurácia em 3-fold:  [0.528, 0.591, 0.606] . Média da acurácia: 0.575\n",
      "Com gamma = 0.031250\n",
      "Acurácia em 3-fold:  [0.535, 0.606, 0.614] . Média da acurácia: 0.585\n",
      "Com gamma = 1.000000\n",
      "Acurácia em 3-fold:  [0.512, 0.591, 0.591] . Média da acurácia: 0.565\n",
      "Com gamma = 32.000000\n",
      "Acurácia em 3-fold:  [0.512, 0.591, 0.591] . Média da acurácia: 0.565\n",
      "\n",
      " Para C = 1.000000\n",
      "Com gamma = 0.000031\n",
      "Acurácia em 3-fold:  [0.512, 0.591, 0.591] . Média da acurácia: 0.565\n",
      "Com gamma = 0.000977\n",
      "Acurácia em 3-fold:  [0.677, 0.803, 0.827] . Média da acurácia: 0.769\n",
      "Com gamma = 0.031250\n",
      "Acurácia em 3-fold:  [0.866, 0.882, 0.929] . Média da acurácia: 0.892\n",
      "Com gamma = 1.000000\n",
      "Acurácia em 3-fold:  [0.52, 0.598, 0.591] . Média da acurácia: 0.570\n",
      "Com gamma = 32.000000\n",
      "Acurácia em 3-fold:  [0.512, 0.591, 0.591] . Média da acurácia: 0.565\n",
      "\n",
      " Para C = 4.000000\n",
      "Com gamma = 0.000031\n",
      "Acurácia em 3-fold:  [0.512, 0.591, 0.591] . Média da acurácia: 0.565\n",
      "Com gamma = 0.000977\n",
      "Acurácia em 3-fold:  [0.756, 0.85, 0.874] . Média da acurácia: 0.827\n",
      "Com gamma = 0.031250\n",
      "Acurácia em 3-fold:  [0.866, 0.882, 0.929] . Média da acurácia: 0.892\n",
      "Com gamma = 1.000000\n",
      "Acurácia em 3-fold:  [0.52, 0.598, 0.591] . Média da acurácia: 0.570\n",
      "Com gamma = 32.000000\n",
      "Acurácia em 3-fold:  [0.512, 0.591, 0.591] . Média da acurácia: 0.565\n",
      "\n",
      " Para C = 32.000000\n",
      "Com gamma = 0.000031\n",
      "Acurácia em 3-fold:  [0.677, 0.803, 0.811] . Média da acurácia: 0.764\n",
      "Com gamma = 0.000977\n",
      "Acurácia em 3-fold:  [0.858, 0.843, 0.913] . Média da acurácia: 0.871\n",
      "Com gamma = 0.031250\n",
      "Acurácia em 3-fold:  [0.866, 0.882, 0.929] . Média da acurácia: 0.892\n",
      "Com gamma = 1.000000\n",
      "Acurácia em 3-fold:  [0.52, 0.598, 0.591] . Média da acurácia: 0.570\n",
      "Com gamma = 32.000000\n",
      "Acurácia em 3-fold:  [0.512, 0.591, 0.591] . Média da acurácia: 0.565\n"
     ]
    }
   ],
   "source": [
    "# set 3 of 5\n",
    "\n",
    "for c in c_range:\n",
    "    print('\\n','Para C = %f'  % c)\n",
    "    for gamma in gamma_range:\n",
    "        print('Com gamma = %f' % gamma)\n",
    "        svc = SVC(C = c, gamma = gamma, kernel='rbf')\n",
    "        kf = cross_validation.KFold(len(X_35), n_folds=3) \n",
    "        scores = [ svc.fit(X_35[train], y_35[train]).score(X_35[test], y_35[test]) \n",
    "                   for train, test in kf ]\n",
    "        score = [float(round(n, 3)) for n in scores]\n",
    "        print('Acurácia em 3-fold: ', score, '. Média da acurácia: %.3f' % np.mean(score))"
   ]
  },
  {
   "cell_type": "code",
   "execution_count": 9,
   "metadata": {
    "collapsed": false
   },
   "outputs": [
    {
     "name": "stdout",
     "output_type": "stream",
     "text": [
      "\n",
      " Para C = 0.031250\n",
      "Com gamma = 0.000031\n",
      "Acurácia em 3-fold:  [0.512, 0.591, 0.591] . Média da acurácia: 0.565\n",
      "Com gamma = 0.000977\n",
      "Acurácia em 3-fold:  [0.512, 0.591, 0.591] . Média da acurácia: 0.565\n",
      "Com gamma = 0.031250\n",
      "Acurácia em 3-fold:  [0.512, 0.591, 0.591] . Média da acurácia: 0.565\n",
      "Com gamma = 1.000000\n",
      "Acurácia em 3-fold:  [0.512, 0.591, 0.591] . Média da acurácia: 0.565\n",
      "Com gamma = 32.000000\n",
      "Acurácia em 3-fold:  [0.512, 0.591, 0.591] . Média da acurácia: 0.565\n",
      "\n",
      " Para C = 0.250000\n",
      "Com gamma = 0.000031\n",
      "Acurácia em 3-fold:  [0.512, 0.591, 0.591] . Média da acurácia: 0.565\n",
      "Com gamma = 0.000977\n",
      "Acurácia em 3-fold:  [0.512, 0.606, 0.598] . Média da acurácia: 0.572\n",
      "Com gamma = 0.031250\n",
      "Acurácia em 3-fold:  [0.528, 0.614, 0.63] . Média da acurácia: 0.591\n",
      "Com gamma = 1.000000\n",
      "Acurácia em 3-fold:  [0.512, 0.591, 0.591] . Média da acurácia: 0.565\n",
      "Com gamma = 32.000000\n",
      "Acurácia em 3-fold:  [0.512, 0.591, 0.591] . Média da acurácia: 0.565\n",
      "\n",
      " Para C = 1.000000\n",
      "Com gamma = 0.000031\n",
      "Acurácia em 3-fold:  [0.512, 0.591, 0.591] . Média da acurácia: 0.565\n",
      "Com gamma = 0.000977\n",
      "Acurácia em 3-fold:  [0.709, 0.858, 0.85] . Média da acurácia: 0.806\n",
      "Com gamma = 0.031250\n",
      "Acurácia em 3-fold:  [0.795, 0.913, 0.937] . Média da acurácia: 0.882\n",
      "Com gamma = 1.000000\n",
      "Acurácia em 3-fold:  [0.512, 0.591, 0.591] . Média da acurácia: 0.565\n",
      "Com gamma = 32.000000\n",
      "Acurácia em 3-fold:  [0.512, 0.591, 0.591] . Média da acurácia: 0.565\n",
      "\n",
      " Para C = 4.000000\n",
      "Com gamma = 0.000031\n",
      "Acurácia em 3-fold:  [0.512, 0.591, 0.591] . Média da acurácia: 0.565\n",
      "Com gamma = 0.000977\n",
      "Acurácia em 3-fold:  [0.748, 0.843, 0.874] . Média da acurácia: 0.822\n",
      "Com gamma = 0.031250\n",
      "Acurácia em 3-fold:  [0.843, 0.906, 0.937] . Média da acurácia: 0.895\n",
      "Com gamma = 1.000000\n",
      "Acurácia em 3-fold:  [0.512, 0.591, 0.591] . Média da acurácia: 0.565\n",
      "Com gamma = 32.000000\n",
      "Acurácia em 3-fold:  [0.512, 0.591, 0.591] . Média da acurácia: 0.565\n",
      "\n",
      " Para C = 32.000000\n",
      "Com gamma = 0.000031\n",
      "Acurácia em 3-fold:  [0.709, 0.795, 0.85] . Média da acurácia: 0.785\n",
      "Com gamma = 0.000977\n",
      "Acurácia em 3-fold:  [0.882, 0.858, 0.913] . Média da acurácia: 0.884\n",
      "Com gamma = 0.031250\n",
      "Acurácia em 3-fold:  [0.843, 0.906, 0.937] . Média da acurácia: 0.895\n",
      "Com gamma = 1.000000\n",
      "Acurácia em 3-fold:  [0.512, 0.591, 0.591] . Média da acurácia: 0.565\n",
      "Com gamma = 32.000000\n",
      "Acurácia em 3-fold:  [0.512, 0.591, 0.591] . Média da acurácia: 0.565\n"
     ]
    }
   ],
   "source": [
    "# set 4 of 5\n",
    "\n",
    "for c in c_range:\n",
    "    print('\\n','Para C = %f'  % c)\n",
    "    for gamma in gamma_range:\n",
    "        print('Com gamma = %f' % gamma)\n",
    "        svc = SVC(C = c, gamma = gamma, kernel='rbf')\n",
    "        kf = cross_validation.KFold(len(X_45), n_folds=3) \n",
    "        scores = [ svc.fit(X_45[train], y_45[train]).score(X_45[test], y_45[test]) \n",
    "                   for train, test in kf ] \n",
    "        score = [float(round(n, 3)) for n in scores]\n",
    "        print('Acurácia em 3-fold: ', score, '. Média da acurácia: %.3f' % np.mean(score))"
   ]
  },
  {
   "cell_type": "code",
   "execution_count": 10,
   "metadata": {
    "collapsed": false
   },
   "outputs": [
    {
     "name": "stdout",
     "output_type": "stream",
     "text": [
      "\n",
      " Para C = 0.031250\n",
      "Com gamma = 0.000031\n",
      "Acurácia em 3-fold:  [0.516, 0.583, 0.598] . Média da acurácia: 0.566\n",
      "Com gamma = 0.000977\n",
      "Acurácia em 3-fold:  [0.516, 0.583, 0.598] . Média da acurácia: 0.566\n",
      "Com gamma = 0.031250\n",
      "Acurácia em 3-fold:  [0.516, 0.583, 0.598] . Média da acurácia: 0.566\n",
      "Com gamma = 1.000000\n",
      "Acurácia em 3-fold:  [0.516, 0.583, 0.598] . Média da acurácia: 0.566\n",
      "Com gamma = 32.000000\n",
      "Acurácia em 3-fold:  [0.516, 0.583, 0.598] . Média da acurácia: 0.566\n",
      "\n",
      " Para C = 0.250000\n",
      "Com gamma = 0.000031\n",
      "Acurácia em 3-fold:  [0.516, 0.583, 0.598] . Média da acurácia: 0.566\n",
      "Com gamma = 0.000977\n",
      "Acurácia em 3-fold:  [0.516, 0.583, 0.598] . Média da acurácia: 0.566\n",
      "Com gamma = 0.031250\n",
      "Acurácia em 3-fold:  [0.539, 0.598, 0.622] . Média da acurácia: 0.586\n",
      "Com gamma = 1.000000\n",
      "Acurácia em 3-fold:  [0.516, 0.583, 0.598] . Média da acurácia: 0.566\n",
      "Com gamma = 32.000000\n",
      "Acurácia em 3-fold:  [0.516, 0.583, 0.598] . Média da acurácia: 0.566\n",
      "\n",
      " Para C = 1.000000\n",
      "Com gamma = 0.000031\n",
      "Acurácia em 3-fold:  [0.516, 0.583, 0.598] . Média da acurácia: 0.566\n",
      "Com gamma = 0.000977\n",
      "Acurácia em 3-fold:  [0.695, 0.843, 0.827] . Média da acurácia: 0.788\n",
      "Com gamma = 0.031250\n",
      "Acurácia em 3-fold:  [0.828, 0.921, 0.913] . Média da acurácia: 0.887\n",
      "Com gamma = 1.000000\n",
      "Acurácia em 3-fold:  [0.523, 0.583, 0.606] . Média da acurácia: 0.571\n",
      "Com gamma = 32.000000\n",
      "Acurácia em 3-fold:  [0.516, 0.583, 0.598] . Média da acurácia: 0.566\n",
      "\n",
      " Para C = 4.000000\n",
      "Com gamma = 0.000031\n",
      "Acurácia em 3-fold:  [0.516, 0.583, 0.598] . Média da acurácia: 0.566\n",
      "Com gamma = 0.000977\n",
      "Acurácia em 3-fold:  [0.758, 0.85, 0.882] . Média da acurácia: 0.830\n",
      "Com gamma = 0.031250\n",
      "Acurácia em 3-fold:  [0.867, 0.921, 0.929] . Média da acurácia: 0.906\n",
      "Com gamma = 1.000000\n",
      "Acurácia em 3-fold:  [0.523, 0.583, 0.606] . Média da acurácia: 0.571\n",
      "Com gamma = 32.000000\n",
      "Acurácia em 3-fold:  [0.516, 0.583, 0.598] . Média da acurácia: 0.566\n",
      "\n",
      " Para C = 32.000000\n",
      "Com gamma = 0.000031\n",
      "Acurácia em 3-fold:  [0.68, 0.811, 0.819] . Média da acurácia: 0.770\n",
      "Com gamma = 0.000977\n",
      "Acurácia em 3-fold:  [0.844, 0.89, 0.874] . Média da acurácia: 0.869\n",
      "Com gamma = 0.031250\n",
      "Acurácia em 3-fold:  [0.867, 0.921, 0.929] . Média da acurácia: 0.906\n",
      "Com gamma = 1.000000\n",
      "Acurácia em 3-fold:  [0.523, 0.583, 0.606] . Média da acurácia: 0.571\n",
      "Com gamma = 32.000000\n",
      "Acurácia em 3-fold:  [0.516, 0.583, 0.598] . Média da acurácia: 0.566\n"
     ]
    }
   ],
   "source": [
    "# set 5 of 5\n",
    "\n",
    "for c in c_range:\n",
    "    print('\\n','Para C = %f'  % c)\n",
    "    for gamma in gamma_range:\n",
    "        print('Com gamma = %f' % gamma)\n",
    "        svc = SVC(C = c, gamma = gamma, kernel='rbf')\n",
    "        kf = cross_validation.KFold(len(X_55), n_folds=3) \n",
    "        scores = [ svc.fit(X_55[train], y_55[train]).score(X_55[test], y_55[test]) \n",
    "                   for train, test in kf ] \n",
    "        score = [float(round(n, 3)) for n in scores]\n",
    "        print('Acurácia em 3-fold: ', score, '. Média da acurácia: %.3f' % np.mean(score))"
   ]
  },
  {
   "cell_type": "markdown",
   "metadata": {},
   "source": [
    "1) Qual a accuracia media (na validação de fora).\n",
    "0.906\n",
    "\n",
    "2) Quais os valores de C e gamma a serem usados no classificador final (fazer o 3-fold no conjunto todo). \n",
    "Feito!"
   ]
  },
  {
   "cell_type": "code",
   "execution_count": 14,
   "metadata": {
    "collapsed": false
   },
   "outputs": [
    {
     "name": "stdout",
     "output_type": "stream",
     "text": [
      "[0.91194968553459121, 0.90566037735849059, 0.92405063291139244]\n",
      "\n",
      "Mean 0.914\n"
     ]
    }
   ],
   "source": [
    "new_svc = SVC(kernel='rbf', C = 32, gamma = 2**-5)\n",
    "\n",
    "# create the stratified cross validation\n",
    "new_skf = cross_validation.StratifiedKFold(y, n_folds=3)\n",
    "\n",
    "# fit and scores the folds\n",
    "scores = [ new_svc.fit(X[train], y[train]).score(X[test], y[test]) \n",
    "           for train, test in new_skf ]\n",
    "print(scores)\n",
    "\n",
    "# mean of scores\n",
    "print('\\nMean %.3f' % np.mean(scores))"
   ]
  }
 ],
 "metadata": {
  "anaconda-cloud": {},
  "kernelspec": {
   "display_name": "Python [PYT3]",
   "language": "python",
   "name": "Python [PYT3]"
  },
  "language_info": {
   "codemirror_mode": {
    "name": "ipython",
    "version": 3
   },
   "file_extension": ".py",
   "mimetype": "text/x-python",
   "name": "python",
   "nbconvert_exporter": "python",
   "pygments_lexer": "ipython3",
   "version": "3.5.2"
  }
 },
 "nbformat": 4,
 "nbformat_minor": 0
}
